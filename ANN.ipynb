{
 "cells": [
  {
   "cell_type": "code",
   "execution_count": 1,
   "metadata": {},
   "outputs": [],
   "source": [
    "import pandas as pd\n",
    "import numpy as np\n",
    "import matplotlib.pyplot as plt\n",
    "import os\n",
    "import tensorflow as tf\n",
    "from sklearn.model_selection import train_test_split\n",
    "from sklearn.preprocessing import StandardScaler"
   ]
  },
  {
   "cell_type": "code",
   "execution_count": 11,
   "metadata": {},
   "outputs": [
    {
     "name": "stdout",
     "output_type": "stream",
     "text": [
      "   SepalLengthCm  SepalWidthCm  PetalLengthCm  PetalWidthCm      Species\n",
      "0            5.1           3.5            1.4           0.2  Iris-setosa\n",
      "1            4.9           3.0            1.4           0.2  Iris-setosa\n",
      "2            4.7           3.2            1.3           0.2  Iris-setosa\n",
      "3            4.6           3.1            1.5           0.2  Iris-setosa\n",
      "4            5.0           3.6            1.4           0.2  Iris-setosa\n"
     ]
    }
   ],
   "source": [
    "#Load data and review content\n",
    "\n",
    "iris_data=pd.read_csv(\"C:\\\\Users\\\\anu05\\\\Downloads\\\\iris.csv\")\n",
    "print(iris_data.head())"
   ]
  },
  {
   "cell_type": "code",
   "execution_count": 12,
   "metadata": {},
   "outputs": [],
   "source": [
    "#use label encoder to convert string to numeric values for the target variable\n",
    "\n",
    "from sklearn.preprocessing import LabelEncoder\n",
    "\n",
    "label_encoder=LabelEncoder()\n",
    "iris_data['Species']=label_encoder.fit_transform(iris_data['Species'])\n",
    "\n"
   ]
  },
  {
   "cell_type": "code",
   "execution_count": 13,
   "metadata": {},
   "outputs": [
    {
     "name": "stdout",
     "output_type": "stream",
     "text": [
      "   SepalLengthCm  SepalWidthCm  PetalLengthCm  PetalWidthCm  Species\n",
      "0            5.1           3.5            1.4           0.2        0\n",
      "1            4.9           3.0            1.4           0.2        0\n",
      "2            4.7           3.2            1.3           0.2        0\n",
      "3            4.6           3.1            1.5           0.2        0\n",
      "4            5.0           3.6            1.4           0.2        0\n"
     ]
    }
   ],
   "source": [
    "print(iris_data.head())"
   ]
  },
  {
   "cell_type": "code",
   "execution_count": 14,
   "metadata": {},
   "outputs": [
    {
     "name": "stdout",
     "output_type": "stream",
     "text": [
      "(150, 5)\n"
     ]
    }
   ],
   "source": [
    "#converting input to numpy array\n",
    "np_iris=iris_data.to_numpy()\n",
    "print(np_iris.shape)"
   ]
  },
  {
   "cell_type": "code",
   "execution_count": 15,
   "metadata": {},
   "outputs": [
    {
     "name": "stdout",
     "output_type": "stream",
     "text": [
      "\n",
      " Features before scaling:  \n",
      "--------\n",
      "[[5.1 3.5 1.4 0.2]\n",
      " [4.9 3.  1.4 0.2]\n",
      " [4.7 3.2 1.3 0.2]\n",
      " [4.6 3.1 1.5 0.2]\n",
      " [5.  3.6 1.4 0.2]]\n",
      "\n",
      " Features after scaling: \n",
      "-------\n",
      "[0. 0. 0. 0. 0.]\n"
     ]
    }
   ],
   "source": [
    "#Seperate feature and target variables\n",
    "X_data=np_iris[:,0:4]\n",
    "y_data=np_iris[:,4]\n",
    "\n",
    "print(\"\\n Features before scaling:  \\n--------\")\n",
    "print(X_data[:5,:])\n",
    "print(\"\\n Features after scaling: \\n-------\")\n",
    "print(y_data[:5])"
   ]
  },
  {
   "cell_type": "code",
   "execution_count": 16,
   "metadata": {},
   "outputs": [
    {
     "name": "stdout",
     "output_type": "stream",
     "text": [
      "\n",
      " Features before scaling:  \n",
      "--------\n",
      "[[-0.90068117  1.03205722 -1.3412724  -1.31297673]\n",
      " [-1.14301691 -0.1249576  -1.3412724  -1.31297673]\n",
      " [-1.38535265  0.33784833 -1.39813811 -1.31297673]\n",
      " [-1.50652052  0.10644536 -1.2844067  -1.31297673]\n",
      " [-1.02184904  1.26346019 -1.3412724  -1.31297673]]\n",
      "\n",
      " Features after scaling: \n",
      "-------\n",
      "[[1. 0. 0.]\n",
      " [1. 0. 0.]\n",
      " [1. 0. 0.]\n",
      " [1. 0. 0.]\n",
      " [1. 0. 0.]]\n"
     ]
    }
   ],
   "source": [
    "#create std scaler model that is fit on the dataset\n",
    "\n",
    "scaler=StandardScaler().fit(X_data)\n",
    "\n",
    "#scale the numeric feature variable\n",
    "X_data=scaler.transform(X_data)\n",
    "\n",
    "#convert target variable as a one-hot encoding array\n",
    "y_data=tf.keras.utils.to_categorical(y_data,3)\n",
    "print(\"\\n Features before scaling:  \\n--------\")\n",
    "print(X_data[:5,:])\n",
    "print(\"\\n Features after scaling: \\n-------\")\n",
    "print(y_data[:5])"
   ]
  },
  {
   "cell_type": "code",
   "execution_count": 17,
   "metadata": {},
   "outputs": [
    {
     "name": "stdout",
     "output_type": "stream",
     "text": [
      "\n",
      " Train test dimensions:\n",
      "------------\n",
      "(135, 4) (15, 4) (135, 3) (15, 3)\n"
     ]
    }
   ],
   "source": [
    "#split into train and test\n",
    "\n",
    "X_train, X_test, y_train, y_test= train_test_split(X_data, y_data, test_size=0.1)\n",
    "\n",
    "print(\"\\n Train test dimensions:\\n------------\")\n",
    "print(X_train.shape, X_test.shape, y_train.shape, y_test.shape)"
   ]
  },
  {
   "cell_type": "code",
   "execution_count": 18,
   "metadata": {},
   "outputs": [
    {
     "name": "stdout",
     "output_type": "stream",
     "text": [
      "Model: \"sequential\"\n",
      "_________________________________________________________________\n",
      " Layer (type)                Output Shape              Param #   \n",
      "=================================================================\n",
      " Hidden-Layer-1 (Dense)      (None, 128)               640       \n",
      "                                                                 \n",
      " Hidden-Layer-2 (Dense)      (None, 128)               16512     \n",
      "                                                                 \n",
      " Output-Layer (Dense)        (None, 3)                 387       \n",
      "                                                                 \n",
      "=================================================================\n",
      "Total params: 17539 (68.51 KB)\n",
      "Trainable params: 17539 (68.51 KB)\n",
      "Non-trainable params: 0 (0.00 Byte)\n",
      "_________________________________________________________________\n"
     ]
    }
   ],
   "source": [
    "from tensorflow import keras\n",
    "\n",
    "# Number of classes in the target variable\n",
    "NB_CLASSES=3\n",
    "\n",
    "# create a sequential model in keras\n",
    "model=tf.keras.models.Sequential()\n",
    "\n",
    "# Add the first hidden layer\n",
    "model.add(keras.layers.Dense(128, # Number of nodes\n",
    "                             input_shape=(4,), # number of input variables\n",
    "                             name=\"Hidden-Layer-1\", #logical name\n",
    "                             activation='relu')) # activation function\n",
    "\n",
    "# Add a second hidden layer\n",
    "model.add(keras.layers.Dense(128,\n",
    "                            name=\"Hidden-Layer-2\",\n",
    "                            activation=\"relu\"))\n",
    "\n",
    "# Add an output layer with softmax function\n",
    "model.add(keras.layers.Dense(NB_CLASSES,\n",
    "                            name=\"Output-Layer\",\n",
    "                            activation=\"softmax\"))\n",
    "\n",
    "# compile the model with loss and metrics\n",
    "model.compile(loss='categorical_crossentropy',\n",
    "             metrics=[\"accuracy\"])\n",
    "\n",
    "# Print the model summary\n",
    "model.summary()"
   ]
  },
  {
   "cell_type": "code",
   "execution_count": 19,
   "metadata": {},
   "outputs": [],
   "source": [
    "# Training and evaluating the model\n",
    "# Make it verbose so we can see it\n",
    "VERBOSE=1\n",
    "# Set the hyperparameters for training , and set bacth size\n",
    "BATCH_SIZE=16\n",
    "# Set no. of Epochs\n",
    "EPOCHS=20\n",
    "# Set the validation split\n",
    "VALIDATION_SPLIT=0.2\n"
   ]
  },
  {
   "cell_type": "code",
   "execution_count": 21,
   "metadata": {},
   "outputs": [
    {
     "name": "stdout",
     "output_type": "stream",
     "text": [
      "Epoch 1/20\n",
      "1/7 [===>..........................] - ETA: 0s - loss: 0.0233 - accuracy: 1.0000"
     ]
    },
    {
     "name": "stdout",
     "output_type": "stream",
     "text": [
      "7/7 [==============================] - 0s 25ms/step - loss: 0.0683 - accuracy: 0.9722 - val_loss: 0.3850 - val_accuracy: 0.8519\n",
      "Epoch 2/20\n",
      "7/7 [==============================] - 0s 8ms/step - loss: 0.0579 - accuracy: 0.9815 - val_loss: 0.3734 - val_accuracy: 0.8519\n",
      "Epoch 3/20\n",
      "7/7 [==============================] - 0s 7ms/step - loss: 0.0536 - accuracy: 0.9815 - val_loss: 0.3891 - val_accuracy: 0.8519\n",
      "Epoch 4/20\n",
      "7/7 [==============================] - 0s 8ms/step - loss: 0.0504 - accuracy: 0.9815 - val_loss: 0.3496 - val_accuracy: 0.8519\n",
      "Epoch 5/20\n",
      "7/7 [==============================] - 0s 8ms/step - loss: 0.0473 - accuracy: 0.9815 - val_loss: 0.3584 - val_accuracy: 0.8519\n",
      "Epoch 6/20\n",
      "7/7 [==============================] - 0s 8ms/step - loss: 0.0430 - accuracy: 0.9907 - val_loss: 0.3545 - val_accuracy: 0.8519\n",
      "Epoch 7/20\n",
      "7/7 [==============================] - 0s 7ms/step - loss: 0.0474 - accuracy: 0.9815 - val_loss: 0.3430 - val_accuracy: 0.8519\n",
      "Epoch 8/20\n",
      "7/7 [==============================] - 0s 8ms/step - loss: 0.0375 - accuracy: 0.9907 - val_loss: 0.3471 - val_accuracy: 0.8519\n",
      "Epoch 9/20\n",
      "7/7 [==============================] - 0s 7ms/step - loss: 0.0350 - accuracy: 1.0000 - val_loss: 0.3509 - val_accuracy: 0.8519\n",
      "Epoch 10/20\n",
      "7/7 [==============================] - 0s 7ms/step - loss: 0.0309 - accuracy: 1.0000 - val_loss: 0.3513 - val_accuracy: 0.8519\n",
      "Epoch 11/20\n",
      "7/7 [==============================] - 0s 8ms/step - loss: 0.0323 - accuracy: 0.9907 - val_loss: 0.3603 - val_accuracy: 0.8519\n",
      "Epoch 12/20\n",
      "7/7 [==============================] - 0s 9ms/step - loss: 0.0261 - accuracy: 1.0000 - val_loss: 0.3623 - val_accuracy: 0.8519\n",
      "Epoch 13/20\n",
      "7/7 [==============================] - 0s 8ms/step - loss: 0.0260 - accuracy: 1.0000 - val_loss: 0.3653 - val_accuracy: 0.8148\n",
      "Epoch 14/20\n",
      "7/7 [==============================] - 0s 7ms/step - loss: 0.0235 - accuracy: 1.0000 - val_loss: 0.3623 - val_accuracy: 0.8519\n",
      "Epoch 15/20\n",
      "7/7 [==============================] - 0s 7ms/step - loss: 0.0221 - accuracy: 1.0000 - val_loss: 0.3625 - val_accuracy: 0.8519\n",
      "Epoch 16/20\n",
      "7/7 [==============================] - 0s 9ms/step - loss: 0.0234 - accuracy: 1.0000 - val_loss: 0.3895 - val_accuracy: 0.8519\n",
      "Epoch 17/20\n",
      "7/7 [==============================] - 0s 9ms/step - loss: 0.0202 - accuracy: 1.0000 - val_loss: 0.3787 - val_accuracy: 0.8519\n",
      "Epoch 18/20\n",
      "7/7 [==============================] - 0s 8ms/step - loss: 0.0170 - accuracy: 1.0000 - val_loss: 0.3695 - val_accuracy: 0.8519\n",
      "Epoch 19/20\n",
      "7/7 [==============================] - 0s 9ms/step - loss: 0.0162 - accuracy: 1.0000 - val_loss: 0.3772 - val_accuracy: 0.8519\n",
      "Epoch 20/20\n",
      "7/7 [==============================] - 0s 9ms/step - loss: 0.0171 - accuracy: 1.0000 - val_loss: 0.3765 - val_accuracy: 0.8519\n",
      "Accuracy during training: \n",
      "---------\n"
     ]
    },
    {
     "data": {
      "image/png": "[encoded data removed]",
      "text/plain": [
       "<Figure size 800x500 with 1 Axes>"
      ]
     },
     "metadata": {},
     "output_type": "display_data"
    },
    {
     "name": "stdout",
     "output_type": "stream",
     "text": [
      "Evaluation against test dataset: \n",
      "-------\n",
      "1/1 [==============================] - 0s 43ms/step - loss: 0.0259 - accuracy: 1.0000\n"
     ]
    },
    {
     "data": {
      "text/plain": [
       "[0.025937575846910477, 1.0]"
      ]
     },
     "execution_count": 21,
     "metadata": {},
     "output_type": "execute_result"
    }
   ],
   "source": [
    "# Fitting the model performs the entire training cycle, forw prop, loss computn, back prop, grad descent.\n",
    "# Executed for particlar batch sizes and epochs and performs for each epochs\n",
    "\n",
    "history=model.fit(X_train, y_train, batch_size=BATCH_SIZE, epochs=EPOCHS, verbose=VERBOSE, validation_split=VALIDATION_SPLIT)\n",
    "\n",
    "print(\"Accuracy during training: \\n---------\")\n",
    "\n",
    "import matplotlib.pyplot as plt\n",
    "\n",
    "#plot accuracy of model after each epoch\n",
    "pd.DataFrame(history.history)[\"accuracy\"].plot(figsize=(8,5))\n",
    "plt.title(\"Accuracy improvement with each epoch\")\n",
    "plt.show()\n",
    "\n",
    "\n",
    "print(\"Evaluation against test dataset: \\n-------\")\n",
    "model.evaluate(X_test, y_test)"
   ]
  },
  {
   "cell_type": "code",
   "execution_count": 22,
   "metadata": {},
   "outputs": [
    {
     "name": "stderr",
     "output_type": "stream",
     "text": [
      "WARNING:absl:`Hidden-Layer-1_input` is not a valid tf.function parameter name. Sanitizing to `Hidden_Layer_1_input`.\n",
      "WARNING:absl:`Hidden-Layer-1_input` is not a valid tf.function parameter name. Sanitizing to `Hidden_Layer_1_input`.\n",
      "WARNING:absl:`Hidden-Layer-1_input` is not a valid tf.function parameter name. Sanitizing to `Hidden_Layer_1_input`.\n"
     ]
    },
    {
     "name": "stdout",
     "output_type": "stream",
     "text": [
      "INFO:tensorflow:Assets written to: iris_save\\assets\n"
     ]
    },
    {
     "name": "stderr",
     "output_type": "stream",
     "text": [
      "INFO:tensorflow:Assets written to: iris_save\\assets\n"
     ]
    },
    {
     "name": "stdout",
     "output_type": "stream",
     "text": [
      "Model: \"sequential\"\n",
      "_________________________________________________________________\n",
      " Layer (type)                Output Shape              Param #   \n",
      "=================================================================\n",
      " Hidden-Layer-1 (Dense)      (None, 128)               640       \n",
      "                                                                 \n",
      " Hidden-Layer-2 (Dense)      (None, 128)               16512     \n",
      "                                                                 \n",
      " Output-Layer (Dense)        (None, 3)                 387       \n",
      "                                                                 \n",
      "=================================================================\n",
      "Total params: 17539 (68.51 KB)\n",
      "Trainable params: 17539 (68.51 KB)\n",
      "Non-trainable params: 0 (0.00 Byte)\n",
      "_________________________________________________________________\n"
     ]
    }
   ],
   "source": [
    "#Save the model\n",
    "model.save(\"iris_save\")\n",
    "\n",
    "#load the model\n",
    "loaded_model=keras.models.load_model(\"iris_save\")\n",
    "\n",
    "#Print the model summary\n",
    "loaded_model.summary()"
   ]
  },
  {
   "cell_type": "code",
   "execution_count": 24,
   "metadata": {},
   "outputs": [
    {
     "name": "stdout",
     "output_type": "stream",
     "text": [
      "1/1 [==============================] - 0s 43ms/step\n",
      "Raw Prediciton Output (Probabilities): [[1.352649e-04 9.998647e-01 5.689595e-13]]\n",
      "Prediction is: ['Iris-versicolor']\n"
     ]
    }
   ],
   "source": [
    "#Predictions with the Deep Learing Model\n",
    "\n",
    "#Raw prediction input\n",
    "prediction_input=[[8.6,9.,2.4,6.4]]\n",
    "\n",
    "#scale the features with the same scaling model\n",
    "scaled_input=scaler.transform(prediction_input)\n",
    "\n",
    "#get the raw prediction probabilities\n",
    "raw_prediction=loaded_model.predict(scaled_input)\n",
    "print(\"Raw Prediciton Output (Probabilities):\", raw_prediction)\n",
    "#Find predicition \n",
    "prediction=np.argmax(raw_prediction)\n",
    "print(\"Prediction is:\",label_encoder.inverse_transform([prediction]))"
   ]
  },
  {
   "cell_type": "code",
   "execution_count": null,
   "metadata": {},
   "outputs": [],
   "source": []
  }
 ],
 "metadata": {
  "kernelspec": {
   "display_name": "Python 3",
   "language": "python",
   "name": "python3"
  },
  "language_info": {
   "codemirror_mode": {
    "name": "ipython",
    "version": 3
   },
   "file_extension": ".py",
   "mimetype": "text/x-python",
   "name": "python",
   "nbconvert_exporter": "python",
   "pygments_lexer": "ipython3",
   "version": "3.11.4"
  },
  "orig_nbformat": 4
 },
 "nbformat": 4,
 "nbformat_minor": 2
}
